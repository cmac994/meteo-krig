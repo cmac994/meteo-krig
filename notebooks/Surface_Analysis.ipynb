{
 "cells": [
  {
   "cell_type": "markdown",
   "metadata": {},
   "source": [
    "### Surface Analysis (Examples)\n",
    "\n",
    "This notebook provides visualizations of surface analysis produced derived from a combination of smartphone and MADIS observations.\n",
    "\n",
    "1. Import relevant Python libraries and setup cartopy/colortables\n",
    "\n",
    "2. Retrieve composite reflectivity analysis, smartphone pressure analysis, and MADIS (Kalman smoothed) temperature, dew point, and wind analyses for 14 April, 2018.  \n",
    "\n",
    "3. Generate animations of temperature, moisture, and pressure analsyes for the 14 April, 2018. \n",
    "\n",
    "4. Demonstrate how mesoscale temperature, moisture, and wind perturbations are extracted from analyses using band-pass filtering. Plot and save mesoscale pressure perturbations and composite reflectivity analyses over the two-day period from 14-15 May, 2018. From the saved images, produce a movies showing mesoscale pressure perturbations associated with convection."
   ]
  },
  {
   "cell_type": "code",
   "execution_count": 1,
   "metadata": {},
   "outputs": [
    {
     "data": {
      "text/html": [
       "<style>.container { width:100% !important; }</style>"
      ],
      "text/plain": [
       "<IPython.core.display.HTML object>"
      ]
     },
     "metadata": {},
     "output_type": "display_data"
    }
   ],
   "source": [
    "### ---- (1) ---- ####\n",
    "#Import Python libraries\n",
    "\n",
    "import os\n",
    "import xarray as xr\n",
    "import matplotlib\n",
    "import cmasher as cmr\n",
    "from matplotlib import pyplot as plt\n",
    "import numpy as np\n",
    "import funcs\n",
    "import sys\n",
    "import lcmaps\n",
    "import colorcet as cc\n",
    "import cmasher as cmr\n",
    "from datetime import datetime,timedelta\n",
    "from cartopy.feature import NaturalEarthFeature,BORDERS,LAKES,COLORS\n",
    "import cartopy.crs as crs\n",
    "from cartopy.mpl.gridliner import LONGITUDE_FORMATTER, LATITUDE_FORMATTER\n",
    "from metpy.plots import colortables\n",
    "from scipy import ndimage\n",
    "from scipy import signal\n",
    "from scipy.signal import butter, lfilter\n",
    "import multiprocessing\n",
    "from joblib import Parallel,delayed\n",
    "\n",
    "#Retrieve perceptually uniform colorbar from colorcet\n",
    "cmapp = cc.cm.rainbow_bgyrm_35_85_c71\n",
    "\n",
    "#Set format for datetime objects\n",
    "fmt = '%Y%m%d_%H%M'\n",
    "\n",
    "# Download/add state and coastline features for cartopy \n",
    "states = NaturalEarthFeature(category=\"cultural\", scale=\"10m\",\n",
    "                             facecolor=\"none\",\n",
    "                             name=\"admin_1_states_provinces_shp\")\n",
    "\n",
    "land_50m = NaturalEarthFeature('physical', 'land', '10m',\n",
    "                                        edgecolor='k',\n",
    "                                        facecolor='none')\n",
    "\n",
    "#Define function to add map data to matplotlib plot\n",
    "def add_map(ax,clr,lw):\n",
    "    ax.add_feature(states)\n",
    "    ax.add_feature(BORDERS)\n",
    "    ax.add_feature(land_50m)\n",
    "    ax.add_feature(states,edgecolor=clr,lw=lw)\n",
    "    ax.add_feature(LAKES, edgecolor=clr)\n",
    "\n",
    "#Define function to add latitude/longitude grid lines to cartopy/matplotlib plot\n",
    "def add_gridlines(ax,xl,yl,clr, fs):\n",
    "    gl = ax.gridlines(crs=crs.PlateCarree(), draw_labels=True,\n",
    "                      linewidth=0.25, color=clr, alpha=1, linestyle='--')\n",
    "\n",
    "    gl.xlabels_bottom = xl\n",
    "    gl.xlabels_top = False\n",
    "    gl.ylabels_left = yl\n",
    "    gl.ylabels_right = False\n",
    "\n",
    "    gl.xformatter = LONGITUDE_FORMATTER\n",
    "    gl.yformatter = LATITUDE_FORMATTER\n",
    "    gl.xlabel_style = {'size': fs, 'color': clr}\n",
    "    gl.ylabel_style = {'size': fs, 'color': clr}\n",
    "    return gl\n",
    "\n",
    "#Get Composite Reflectivity colormap from metpy\n",
    "ctable1 = 'NWSStormClearReflectivity'\n",
    "cmapp = cc.cm.rainbow_bgyrm_35_85_c71\n",
    "norm, cmapp_radar = colortables.get_with_steps(ctable1, 244, 244)\n",
    "\n",
    "#Increase with of notebook to fill screen\n",
    "from IPython.core.display import display, HTML\n",
    "display(HTML(\"<style>.container { width:100% !important; }</style>\"))\n",
    "\n",
    "#Define function to mask pressure analyses over water\n",
    "def mask_grid(arr):\n",
    "    arr = np.ma.masked_where(landsea==0,arr)\n",
    "    return arr\n",
    "\n",
    "#Define function to read and subset a land/sea boolean grid\n",
    "def get_landsea():\n",
    "    ds_land = xr.open_dataset('../data/Static/landsea.nc')\n",
    "    ds_land = funcs.subset(ds_land,minLat,maxLat,minLng,maxLng)\n",
    "    landsea = ds_land['LANDSEA'].values\n",
    "    landsea = np.pad(landsea, ((0,1),(0,1)), 'edge')\n",
    "    ds_land.close()\n",
    "    return landsea"
   ]
  },
  {
   "cell_type": "code",
   "execution_count": 2,
   "metadata": {},
   "outputs": [],
   "source": [
    "#---- (2) ---- #\n",
    "\n",
    "#Set date, date format, and observation type\n",
    "day = '20180414'\n",
    "fmt = '%Y%m%d_%H%M'\n",
    "\n",
    "#Define bounding box for analysis\n",
    "minLng = -105.5; maxLng = -70.5; minLat = 28.5; maxLat = 48.5\n",
    "#Get land/sea boolean within bounding box\n",
    "landsea = get_landsea()\n",
    "\n",
    "#Retrieve pre-generated Kalman smoothed LatticeKrig pressure analysis for 14 April, 2018.\n",
    "ds_all = xr.open_dataset('../data/KF/kfsmart_full_altimeter_'+day+'.nc')\n",
    "#Convert analysis time to list of datetime objects\n",
    "dts = ds_all['Valid'].values \n",
    "dtlist = [datetime.utcfromtimestamp(d/1e9).strftime(fmt) for d in dts.tolist()]\n",
    "\n",
    "#Retrieve temperature grid and latitude/longitude dims\n",
    "alts_kf = ds_all['altimeter_rts'].values\n",
    "ygrid = ds_all['longitude'].values; xgrid = ds_all['latitude'].values\n",
    "X,Y = np.meshgrid(ygrid,xgrid) #Generate 2D coordinate grid for contouring\n",
    "ds_all.close()\n",
    "\n",
    "#Retrieve pre-generated Kalman smoothed LatticeKrig temperature analysis for 14 April, 2018.\n",
    "ds_all2 = xr.open_dataset('../data/KF/kfmadis_full_temperature_'+day+'.nc')\n",
    "#Retrieve temperature grid and latitude/longitude dims\n",
    "temp_kf = (9/5.0)*(ds_all2['temperature_rts'].values-273.15) + 32\n",
    "ds_all2.close()\n",
    "\n",
    "#Retrieve pre-generated Kalman smoothed LatticeKrig dew point analysis for 14 April, 2018.\n",
    "ds_all3 = xr.open_dataset('../data/KF/kfmadis_full_dewpoint_'+day+'.nc')\n",
    "#Retrieve temperature grid and latitude/longitude dims\n",
    "dwpt_kf = (9/5.0)*(ds_all3['dewpoint_rts'].values-273.15) + 32\n",
    "ds_all3.close()\n",
    "\n",
    "#Retrieve pre-generated Kalman smoothed LatticeKrig wind analysis for 14 April, 2018.\n",
    "ds_all4 = xr.open_dataset('../data/KF/kfmadis_full_wind_'+day+'.nc')\n",
    "#Retrieve temperature grid and latitude/longitude dims\n",
    "uwind_kf = ds_all4['uwind_rts'].values*1.94384\n",
    "vwind_kf = ds_all4['vwind_rts'].values*1.94384\n",
    "ds_all4.close()\n",
    "\n",
    "#Retrieve pre-generated Kalman smoothed LatticeKrig wind analysis for 14 April, 2018.\n",
    "ds_all5 = xr.open_dataset('../data/Radar/cref_'+day+'.nc')\n",
    "refl = ds_all5['radar_composite'].values\n",
    "ds_all5.close()"
   ]
  },
  {
   "cell_type": "code",
   "execution_count": 7,
   "metadata": {},
   "outputs": [],
   "source": [
    "#---- (3) ---- #\n",
    "\n",
    "#Get lower and upper bounds for colorbars\n",
    "def get_mm(mmeso,split=False):\n",
    "    mn = round(np.nanmin(mmeso),0)\n",
    "    mx = round(np.nanmax(mmeso),0)\n",
    "    if (split):\n",
    "            if (abs(mn) > mx):\n",
    "                    mx = -1*mn\n",
    "    return mn,mx\n",
    "\n",
    "#Get min,max limits for colormaps\n",
    "amin,amax = get_mm(alts_kf)\n",
    "tmin,tmax = get_mm(temp_kf)\n",
    "tdmin,tdmax = get_mm(temp_kf)\n",
    "\n",
    "cmapp_temp = lcmaps.thetae() #Retrieve temp colormap\n",
    "\n",
    "#Define function to plot pressure anlyses and save to a png file in the Plots directory\n",
    "def plot_tmp(d,ddate):    \n",
    "    \n",
    "    #Mask temperature analysis over water\n",
    "    temp_kf_2d = mask_grid(temp_kf[d])\n",
    "    uwind_kf_2d = mask_grid(uwind_kf[d])\n",
    "    vwind_kf_2d = mask_grid(vwind_kf[d])\n",
    "\n",
    "    #Smooth temperature analysis for contouring (use higher smoothing level for synoptic analysis)\n",
    "    temp_kf_2d_smooth = ndimage.gaussian_filter(temp_kf_2d,sigma=1)\n",
    "    \n",
    "    #Initiatlize figure\n",
    "    fig =plt.figure(figsize=(18,10))\n",
    "    ax1 = plt.subplot(111,projection=crs.PlateCarree()) #Set projection\n",
    "    add_map(ax1,'dimgray',1) #Add States/borders\n",
    "    add_gridlines(ax1,True,True,'k',20) #Add grid lines and x/y labels  \n",
    "    \n",
    "    im = plt.pcolormesh(X,Y,temp_kf_2d,cmap=cmapp_temp,vmin=tmin,vmax=tmax)\n",
    "    cs1 = plt.contour(X,Y,mask_grid(temp_kf_2d_smooth),levels=np.arange(tmin,32,4),linestyles='--',colors='k')\n",
    "    cs2 = plt.contour(X,Y,mask_grid(temp_kf_2d_smooth),levels=np.arange(32,tmax,4),colors='k')\n",
    "\n",
    "    ddx = 15\n",
    "    # Plot wind barbs\n",
    "    ax1.barbs(X[::ddx,::ddx],Y[::ddx,::ddx],uwind_kf_2d[::ddx,::ddx],vwind_kf_2d[::ddx,::ddx],length=6)#,regrid_shape=20)\n",
    "\n",
    "    #Set grid bounds\n",
    "    ax1.set_xlim([minLng,maxLng])\n",
    "    ax1.set_ylim([minLat,maxLat])\n",
    "    ax1.set_title('2-m Temperature ($\\degree$F), Wind Barbs (kt): '+ddate[9:13]+' UTC '+ddate[6:8]+'/'+ddate[4:6]+'/'+ddate[0:4],fontsize=24)\n",
    "    cb=plt.colorbar(im,fraction=0.023) #Shrink colorbar to fit plot height\n",
    "    cb.ax.set_title('($^\\circ$F)',y=1.02,fontsize=20) #Set colorbar title\n",
    "    cb.ax.tick_params(labelsize=20) #Set colorbar tick size\n",
    "    fig.canvas.draw()\n",
    "    plt.tight_layout()\n",
    "    #Save image with %03d format for animation with ffmpeg\n",
    "    if (d < 10):\n",
    "        dd = '00'+str(d)\n",
    "    elif ((d >= 10) and (d < 100)):\n",
    "        dd = '0'+str(d)\n",
    "    else:\n",
    "        dd = str(d)\n",
    "    plt.savefig('../data/Plots/'+day+'/kftemp_'+dd+'.png')\n",
    "    plt.close()\n",
    "\n",
    "#Define function to plot pressure anlyses and save to a png file in the Plots directory\n",
    "def plot_dpt(d,ddate):    \n",
    "    #Mask temperature analysis over water\n",
    "    dwpt_kf_2d = mask_grid(dwpt_kf[d])\n",
    "    uwind_kf_2d = mask_grid(uwind_kf[d])\n",
    "    vwind_kf_2d = mask_grid(vwind_kf[d])\n",
    "\n",
    "    #Smooth temperature analysis for contouring (use higher smoothing level for synoptic analysis)\n",
    "    dwpt_kf_2d_smooth = ndimage.gaussian_filter(dwpt_kf_2d,sigma=1)\n",
    "    \n",
    "    #Initiatlize figure\n",
    "    fig =plt.figure(figsize=(18,10))\n",
    "    ax1 = plt.subplot(111,projection=crs.PlateCarree()) #Set projection\n",
    "    add_map(ax1,'dimgray',1) #Add States/borders\n",
    "    add_gridlines(ax1,True,True,'k',20) #Add grid lines and x/y labels  \n",
    "    \n",
    "    im = plt.pcolormesh(X,Y,dwpt_kf_2d,cmap=cmapp_temp,vmin=tdmin,vmax=tdmax)\n",
    "    cs1 = plt.contour(X,Y,mask_grid(dwpt_kf_2d_smooth),levels=np.arange(tdmin,32,4),linestyles='--',colors='k')\n",
    "    cs2 = plt.contour(X,Y,mask_grid(dwpt_kf_2d_smooth),levels=np.arange(32,tdmax,4),colors='k')\n",
    "\n",
    "    ddx = 15\n",
    "    # Plot wind barbs\n",
    "    ax1.barbs(X[::ddx,::ddx],Y[::ddx,::ddx],uwind_kf_2d[::ddx,::ddx],vwind_kf_2d[::ddx,::ddx],length=6)#,regrid_shape=20)\n",
    "\n",
    "    #Set grid bounds\n",
    "    ax1.set_xlim([minLng,maxLng])\n",
    "    ax1.set_ylim([minLat,maxLat])\n",
    "    ax1.set_title('2-m Dew Point ($\\degree$F), Wind Barbs (kt): '+ddate[9:13]+' UTC '+ddate[6:8]+'/'+ddate[4:6]+'/'+ddate[0:4],fontsize=24)\n",
    "    cb=plt.colorbar(im,fraction=0.023) #Shrink colorbar to fit plot height\n",
    "    cb.ax.set_title('($^\\circ$F)',y=1.02,fontsize=20) #Set colorbar title\n",
    "    cb.ax.tick_params(labelsize=20) #Set colorbar tick size\n",
    "    fig.canvas.draw()\n",
    "    plt.tight_layout()\n",
    "    #Save image with %03d format for animation with ffmpeg\n",
    "    if (d < 10):\n",
    "        dd = '00'+str(d)\n",
    "    elif ((d >= 10) and (d < 100)):\n",
    "        dd = '0'+str(d)\n",
    "    else:\n",
    "        dd = str(d)\n",
    "    plt.savefig('../data/Plots/'+day+'/kfdwpt_'+dd+'.png')\n",
    "    plt.close()\n",
    "\n",
    "#Define function to plot pressure anlyses and save to a png file in the Plots directory\n",
    "def plot_rfl(d,ddate):    \n",
    "    #Mask temperature analysis over water\n",
    "    refl_2d = mask_grid(refl[d])\n",
    "    alts_kf_2d = mask_grid(alts_kf[d])\n",
    "    uwind_kf_2d = mask_grid(uwind_kf[d])\n",
    "    vwind_kf_2d = mask_grid(vwind_kf[d])\n",
    "\n",
    "    #Smooth temperature analysis for contouring (use higher smoothing level for synoptic analysis)\n",
    "    alts_kf_2d_smooth = ndimage.gaussian_filter(alts_kf_2d,sigma=3)\n",
    "    \n",
    "    #Initiatlize figure\n",
    "    fig =plt.figure(figsize=(18,10))\n",
    "    ax1 = plt.subplot(111,projection=crs.PlateCarree()) #Set projection\n",
    "    add_map(ax1,'dimgray',1) #Add States/borders\n",
    "    add_gridlines(ax1,True,True,'k',20) #Add grid lines and x/y labels  \n",
    "    \n",
    "    im = plt.pcolormesh(X,Y,refl_2d,cmap=cmapp_radar,vmin=-32,vmax=90)\n",
    "    #Contour pressure every 2 hPa\n",
    "    CS = ax1.contour(X,Y,mask_grid(alts_kf_2d_smooth),levels=np.arange(amin,amax+2,2),colors='k',alpha=1,lw=2)\n",
    "    ax1.clabel(CS, CS.levels, inline=True, fmt=\"%1.f\", fontsize=16, colors='k') #Add contour labels\n",
    "    \n",
    "    ddx = 15\n",
    "    # Plot wind barbs\n",
    "    ax1.barbs(X[::ddx,::ddx],Y[::ddx,::ddx],uwind_kf_2d[::ddx,::ddx],vwind_kf_2d[::ddx,::ddx],length=6,color='dimgray')#,regrid_shape=20)\n",
    "\n",
    "    #Set grid bounds\n",
    "    ax1.set_xlim([minLng,maxLng])\n",
    "    ax1.set_ylim([minLat,maxLat])\n",
    "    ax1.set_title('Altimeter ($hPa$), Wind Barbs ($kt$), Composite Reflectivity (dBZ): '+ddate[9:13]+' UTC '+ddate[6:8]+'/'+ddate[4:6]+'/'+ddate[0:4],fontsize=24)\n",
    "    cb=plt.colorbar(im,fraction=0.023) #Shrink colorbar to fit plot height\n",
    "    cb.ax.set_title('($dBZ$)',y=1.02,fontsize=20) #Set colorbar title\n",
    "    cb.ax.tick_params(labelsize=20) #Set colorbar tick size\n",
    "    fig.canvas.draw()\n",
    "    plt.tight_layout()\n",
    "    #Save image with %03d format for animation with ffmpeg\n",
    "    if (d < 10):\n",
    "        dd = '00'+str(d)\n",
    "    elif ((d >= 10) and (d < 100)):\n",
    "        dd = '0'+str(d)\n",
    "    else:\n",
    "        dd = str(d)\n",
    "    plt.savefig('../data/Plots/'+day+'/kfrfl_'+dd+'.png')\n",
    "    plt.close()"
   ]
  },
  {
   "cell_type": "code",
   "execution_count": 9,
   "metadata": {},
   "outputs": [],
   "source": [
    "#Perform temperature plotting in parallel (one plot - per core)\n",
    "num_cores = multiprocessing.cpu_count()\n",
    "results = Parallel(n_jobs=num_cores)(delayed(plot_tmp)(d,ddate) for d,ddate in enumerate(dtlist))"
   ]
  },
  {
   "cell_type": "code",
   "execution_count": 10,
   "metadata": {},
   "outputs": [],
   "source": [
    "#Perform dew point plotting in parallel (one plot - per core)\n",
    "results = Parallel(n_jobs=num_cores)(delayed(plot_dpt)(d,ddate) for d,ddate in enumerate(dtlist))"
   ]
  },
  {
   "cell_type": "code",
   "execution_count": 11,
   "metadata": {},
   "outputs": [],
   "source": [
    "#Perform altimeter (reflectivity) plotting in parallel (one plot - per core)\n",
    "results = Parallel(n_jobs=num_cores)(delayed(plot_rfl)(d,ddate) for d,ddate in enumerate(dtlist))"
   ]
  },
  {
   "cell_type": "code",
   "execution_count": 12,
   "metadata": {},
   "outputs": [
    {
     "data": {
      "text/plain": [
       "0"
      ]
     },
     "execution_count": 12,
     "metadata": {},
     "output_type": "execute_result"
    }
   ],
   "source": [
    "#If animation (mp4 movie) already exists, remove it so ffmpeg won't ask to overwrite\n",
    "if os.path.isfile('../data/Plots/'+day+'/kftemp_'+day+'.mp4'):\n",
    "    os.system('rm -rf ../data/Plots/'+day+'/kftemp_'+day+'.mp4')\n",
    "    \n",
    "#Create mp4 movie from 5-min pressure anlayses saved as pngs\n",
    "os.system('ffmpeg -r 9 -f image2 -s 1920x1080 -i ../data/Plots/'+day+'/kftemp_%03d.png -c:v libx264 -pix_fmt yuv420p ../data/Plots/'+day+'/kftemp_'+day+'.mp4')\n",
    "#(Below) Display MADIS pressure analysis for 14 April, 2018"
   ]
  },
  {
   "cell_type": "code",
   "execution_count": 13,
   "metadata": {},
   "outputs": [
    {
     "data": {
      "text/html": [
       "<div align=\"middle\">\n",
       "<video width=\"80%\" controls>\n",
       "      <source src = \"../data/Plots/20180414/kftemp_20180414.mp4\" type=\"video/mp4\">\n",
       "</video></div>\n"
      ],
      "text/plain": [
       "<IPython.core.display.HTML object>"
      ]
     },
     "metadata": {},
     "output_type": "display_data"
    }
   ],
   "source": [
    "%%HTML\n",
    "<div align=\"middle\">\n",
    "<video width=\"80%\" controls>\n",
    "      <source src = \"../data/Plots/20180414/kftemp_20180414.mp4\" type=\"video/mp4\">\n",
    "</video></div>"
   ]
  },
  {
   "cell_type": "code",
   "execution_count": 14,
   "metadata": {},
   "outputs": [
    {
     "data": {
      "text/plain": [
       "0"
      ]
     },
     "execution_count": 14,
     "metadata": {},
     "output_type": "execute_result"
    }
   ],
   "source": [
    "#If animation (mp4 movie) already exists, remove it so ffmpeg won't ask to overwrite\n",
    "if os.path.isfile('../data/Plots/'+day+'/kfdwpt_'+day+'.mp4'):\n",
    "    os.system('rm -rf ../data/Plots/'+day+'/kfdwpt_'+day+'.mp4')\n",
    "    \n",
    "#Create mp4 movie from 5-min pressure anlayses saved as pngs\n",
    "os.system('ffmpeg -r 9 -f image2 -s 1920x1080 -i ../data/Plots/'+day+'/kfdwpt_%03d.png -c:v libx264 -pix_fmt yuv420p ../data/Plots/'+day+'/kfdwpt_'+day+'.mp4')\n",
    "#(Below) Display MADIS dew point analysis for 14 April, 2018"
   ]
  },
  {
   "cell_type": "code",
   "execution_count": 15,
   "metadata": {},
   "outputs": [
    {
     "data": {
      "text/html": [
       "<div align=\"middle\">\n",
       "<video width=\"80%\" controls>\n",
       "      <source src = \"../data/Plots/20180414/kfdwpt_20180414.mp4\" type=\"video/mp4\">\n",
       "</video></div>\n"
      ],
      "text/plain": [
       "<IPython.core.display.HTML object>"
      ]
     },
     "metadata": {},
     "output_type": "display_data"
    }
   ],
   "source": [
    "%%HTML\n",
    "<div align=\"middle\">\n",
    "<video width=\"80%\" controls>\n",
    "      <source src = \"../data/Plots/20180414/kfdwpt_20180414.mp4\" type=\"video/mp4\">\n",
    "</video></div>"
   ]
  },
  {
   "cell_type": "code",
   "execution_count": 16,
   "metadata": {},
   "outputs": [
    {
     "data": {
      "text/plain": [
       "0"
      ]
     },
     "execution_count": 16,
     "metadata": {},
     "output_type": "execute_result"
    }
   ],
   "source": [
    "#If animation (mp4 movie) already exists, remove it so ffmpeg won't ask to overwrite\n",
    "if os.path.isfile('../data/Plots/'+day+'/kfrfl_'+day+'.mp4'):\n",
    "    os.system('rm -rf ../data/Plots/'+day+'/kfrfl_'+day+'.mp4')\n",
    "    \n",
    "#Create mp4 movie from 5-min pressure anlayses saved as pngs\n",
    "os.system('ffmpeg -r 9 -f image2 -s 1920x1080 -i ../data/Plots/'+day+'/kfrfl_%03d.png -c:v libx264 -pix_fmt yuv420p ../data/Plots/'+day+'/kfrfl_'+day+'.mp4')\n",
    "#(Below) Display MADIS dew point analysis for 14 April, 2018"
   ]
  },
  {
   "cell_type": "code",
   "execution_count": 17,
   "metadata": {},
   "outputs": [
    {
     "data": {
      "text/html": [
       "<div align=\"middle\">\n",
       "<video width=\"80%\" controls>\n",
       "      <source src = \"../data/Plots/20180414/kfrfl_20180414.mp4\" type=\"video/mp4\">\n",
       "</video></div>\n"
      ],
      "text/plain": [
       "<IPython.core.display.HTML object>"
      ]
     },
     "metadata": {},
     "output_type": "display_data"
    }
   ],
   "source": [
    "%%HTML\n",
    "<div align=\"middle\">\n",
    "<video width=\"80%\" controls>\n",
    "      <source src = \"../data/Plots/20180414/kfrfl_20180414.mp4\" type=\"video/mp4\">\n",
    "</video></div>"
   ]
  },
  {
   "cell_type": "code",
   "execution_count": 20,
   "metadata": {},
   "outputs": [],
   "source": [
    "#---- (4) ---- #\n",
    "\n",
    "#Define dates of analysis and observation type\n",
    "day1 = '20180514'\n",
    "day2 = '20180515'\n",
    "otyp = 'temperature'\n",
    "\n",
    "#Define bounding box\n",
    "minLng = -83.0; maxLng = -70.5; minLat = 38.5; maxLat= 45.0\n",
    "\n",
    "#Get land/sea boolean within bounding box\n",
    "landsea = get_landsea()\n",
    "landsea = landsea[:-1,:]\n",
    "\n",
    "#Retrieve temperature analyses for each day 14-15 of May, 2018\n",
    "ds1 = xr.open_dataset('../data/KF/kfmadis_full_'+otyp+'_'+day1+'.nc')\n",
    "ds2 = xr.open_dataset('../data/KF/kfmadis_full_'+otyp+'_'+day2+'.nc')\n",
    "\n",
    "#Combine pressure analysis from each day into a single xarray dataset\n",
    "ds_all = xr.concat([ds1,ds2],'Valid')\n",
    "\n",
    "#Convert list of analysis times to list of datetime objects\n",
    "dts = ds_all['Valid'].values\n",
    "dtlist = [datetime.utcfromtimestamp(d/1e9).strftime(fmt) for d in dts.tolist()]\n",
    "\n",
    "#Get temperature and reflectivity analyses over the two-day period (14-15, May 2018) \n",
    "temp_kf = ds_all[otyp+'_rts'].values\n",
    "\n",
    "#Get dimensions of temperature anlaysis\n",
    "ys = temp_kf.shape[1] #lat dim\n",
    "xs = temp_kf.shape[2] #lng dim\n",
    "\n",
    "#Set upper and lower limits of band pass filter\n",
    "highcut = 1/(3600*2)\n",
    "lowcut = 1/(3600*6)\n",
    "fs = 1/300.0 #Set temporal frequency of analysis (in hertz)\n",
    "order=2\n",
    "\n",
    "#Define highpass/bandpass filter function\n",
    "def butter_bandpass(lowcut, highcut, fs, order=5):\n",
    "        nyq = 0.5 * fs #nyquist frequency\n",
    "        low = lowcut / nyq #lower limit filter\n",
    "        high = highcut / nyq #upper limit of filter\n",
    "        b, a = butter(order, [low, high], btype='band') #Perform bandpass\n",
    "        #b, a = butter(order, [high], btype = 'highpass')\n",
    "        return b, a\n",
    "\n",
    "#Function to perform band pass filtering\n",
    "def butter_bandpass_filter(data, lowcut, highcut, fs, order=5):\n",
    "        b, a = butter_bandpass(lowcut, highcut, fs, order=order)\n",
    "        y = signal.filtfilt(b, a, data)\n",
    "        return y\n",
    "\n",
    "#Filter time-series\n",
    "def filter_ts(vvar):\n",
    "        meso = butter_bandpass_filter(vvar, lowcut, highcut, fs, order)\n",
    "        return meso\n",
    "\n",
    "#Function to perform bandpass filtering of pressure time series at grid point (y,x)\n",
    "def perform_filter(vvar,x,y):\n",
    "    if (y == xs-1):\n",
    "            print(x)\n",
    "    \n",
    "    #Get bandpass filtered time-series\n",
    "    meso = filter_ts(vvar)\n",
    "    return meso\n",
    "\n",
    "#Get list of latitude/longitude pairs for every grid point in the analysis domain\n",
    "xy_pair = [];\n",
    "for i in range(0,ys):\n",
    "    for j in range(0,xs):\n",
    "        xy_pair.append((i,j))\n",
    "        \n",
    "        \n",
    "def run_bpass(otyp,ntyp):\n",
    "\n",
    "    #Retrieve pressure analyses for each day 14-15 of May, 2018\n",
    "    if ('wind' in otyp):\n",
    "        ds1 = xr.open_dataset('../data/KF/kf'+ntyp+'_full_wind_'+day1+'.nc')\n",
    "        ds2 = xr.open_dataset('../data/KF/kf'+ntyp+'_full_wind_'+day2+'.nc')\n",
    "    else:\n",
    "        ds1 = xr.open_dataset('../data/KF/kf'+ntyp+'_full_'+otyp+'_'+day1+'.nc')\n",
    "        ds2 = xr.open_dataset('../data/KF/kf'+ntyp+'_full_'+otyp+'_'+day2+'.nc')\n",
    "        \n",
    "    #Combine pressure analysis from each day into a single xarray dataset\n",
    "    ds_all = xr.concat([ds1,ds2],'Valid')\n",
    "    ds1.close()\n",
    "    ds2.close()\n",
    "    \n",
    "    vvar_kf = ds_all[otyp+'_rts'].values\n",
    "    \n",
    "    #Perform bandpass filtering in parallel\n",
    "    num_cores = multiprocessing.cpu_count()\n",
    "    vvar_meso = Parallel(n_jobs=num_cores)(delayed(perform_filter)(vvar_kf[:,x,y],x,y) for x,y in xy_pair)\n",
    "\n",
    "    #Reshape the bandpass filtered pressure dataset so its dimensions are (Time, Latitude, Longitude)\n",
    "    vvar_meso = np.float32(vvar_meso)\n",
    "    nshp = (ys,xs,len(dtlist))\n",
    "    vvar_meso = np.reshape(vvar_meso,nshp).T\n",
    "    vvar_meso = np.swapaxes(vvar_meso,1,2)\n",
    "\n",
    "    #Write bandpass filtered pressure perturbations to NetCDF\n",
    "    ds = xr.Dataset()\n",
    "    ds[otyp+'_meso'] = xr.DataArray(vvar_meso,coords={'Valid':dts,'latitude':ds_all['latitude'].values,'longitude':ds_all['longitude'].values},dims=('Valid','latitude','longitude'))\n",
    "    ds.to_netcdf('../data/KF/kf'+ntyp+'_bpass_'+otyp+'_'+day2+'.nc')"
   ]
  },
  {
   "cell_type": "code",
   "execution_count": 21,
   "metadata": {},
   "outputs": [],
   "source": [
    "#Band pass filter (2-6h) smartphone altimeter analysis\n",
    "run_bpass('altimeter','smart')"
   ]
  },
  {
   "cell_type": "code",
   "execution_count": 22,
   "metadata": {},
   "outputs": [],
   "source": [
    "#Band pass filter (2-6h) madis temperature analysis\n",
    "run_bpass('temperature','madis')"
   ]
  },
  {
   "cell_type": "code",
   "execution_count": 23,
   "metadata": {},
   "outputs": [],
   "source": [
    "#Band pass filter (2-6h) madis dewpoint analysis\n",
    "run_bpass('dewpoint','madis')"
   ]
  },
  {
   "cell_type": "code",
   "execution_count": 24,
   "metadata": {},
   "outputs": [],
   "source": [
    "#Band pass filter (2-6h) madis uwind analysis\n",
    "run_bpass('uwind','madis')"
   ]
  },
  {
   "cell_type": "code",
   "execution_count": 25,
   "metadata": {},
   "outputs": [],
   "source": [
    "#Band pass filter (2-6h) madis temperature analysis\n",
    "run_bpass('vwind','madis')"
   ]
  },
  {
   "cell_type": "code",
   "execution_count": 46,
   "metadata": {},
   "outputs": [],
   "source": [
    "#Set base font size\n",
    "matplotlib.rcParams.update({'font.size': 20})\n",
    "\n",
    "dg1 = xr.open_dataset('../data/KF/kfsmart_bpass_altimeter_'+day2+'.nc')\n",
    "alts_meso = dg1['altimeter_meso'].values\n",
    "dg1.close()\n",
    "\n",
    "dg2 = xr.open_dataset('../data/KF/kfmadis_bpass_temperature_'+day2+'.nc')\n",
    "temp_meso = dg2['temperature_meso'].values\n",
    "dg2.close()\n",
    "\n",
    "dg3 = xr.open_dataset('../data/KF/kfmadis_bpass_dewpoint_'+day2+'.nc')\n",
    "dewp_meso = dg3['dewpoint_meso'].values\n",
    "dg3.close()\n",
    "\n",
    "dg4 = xr.open_dataset('../data/KF/kfmadis_bpass_uwind_'+day2+'.nc')\n",
    "uwind_meso = dg4['uwind_meso'].values\n",
    "dg4.close()\n",
    "\n",
    "dg5 = xr.open_dataset('../data/KF/kfmadis_bpass_vwind_'+day2+'.nc')\n",
    "vwind_meso = dg5['vwind_meso'].values\n",
    "dg5.close()\n",
    "\n",
    "#Retrieve pre-generated Kalman smoothed LatticeKrig wind analysis for 14 April, 2018.\n",
    "dg6 = xr.open_dataset('../data/Radar/cref_201805.nc')\n",
    "refl2 = dg6['REFL'].values\n",
    "dg6.close()\n",
    "\n",
    "#Retrieve latitude/longitude from dataset\n",
    "ygrid = dg5['longitude'].values; xgrid = dg5['latitude'].values\n",
    "X,Y = np.meshgrid(ygrid,xgrid) #Create 2d coordinates for contour plotting\n",
    "\n",
    "alt_min = np.round(np.nanmin(alts_meso)-0.5,0)\n",
    "alt_max = np.round(np.nanmax(alts_meso)+0.5,0)\n",
    "if (abs(alt_min)>alt_max):\n",
    "        alt_max = -1*alt_min\n",
    "else:\n",
    "        alt_min = -1*alt_max\n",
    "\n",
    "aran = [-1.25,-1,-0.75,0.75,1,1.25] #list(np.arange(alt_min,alt_max,0.75))\n",
    "\n",
    "tmp_min = np.round(np.nanmin(temp_meso)-1,0)\n",
    "tmp_max = np.round(np.nanmax(temp_meso)+1,0)\n",
    "if (abs(tmp_min)>tmp_max):\n",
    "        tmp_max = -1*tmp_min\n",
    "else:\n",
    "        tmp_min = -1*tmp_max\n",
    "\n",
    "tran = list(np.arange(tmp_min,tmp_max,0.5))\n",
    "tran.remove(0)\n",
    "\n",
    "dpt_min = np.round(np.nanmin(dewp_meso)-1,0)\n",
    "dpt_max = np.round(np.nanmax(dewp_meso)+1,0)\n",
    "if (abs(dpt_min)>dpt_max):\n",
    "        dpt_max = -1*dpt_min\n",
    "else:\n",
    "        dpt_min = -1*dpt_max\n",
    "\n",
    "dran = list(np.arange(dpt_min,dpt_max,0.5))\n",
    "dran.remove(0)\n",
    "\n",
    "\n",
    "matplotlib.rcParams.update({'font.size': 16})\n",
    "\n",
    "def plot_pert(d,ddate):\n",
    "    \n",
    "    d=d+144 #Start at 1200 UTC 14 May \n",
    "      \n",
    "    fig = plt.figure(figsize=(16,8))\n",
    "    ax1 = plt.subplot(221,projection=crs.PlateCarree())\n",
    "    add_map(ax1,'dimgray',1)\n",
    "    add_gridlines(ax1,False,True,'k',18)\n",
    "\n",
    "    im1 = ax1.imshow(alts_meso[d],origin='lower',aspect='auto',interpolation='bilinear',extent=[X.min(),X.max(),Y.min(),Y.max()],cmap=plt.cm.PuOr_r,vmin=-1.5,vmax=1.5)\n",
    "    im11 = ax1.contour(X,Y,alts_meso[d],levels=aran,colors='k')\n",
    "    q1 = ax1.quiver(X[::5,::5],Y[::5,::5],uwind_meso[d][::5,::5],vwind_meso[d][::5,::5],scale=35,width=0.0025,zorder=10)\n",
    "    plt.colorbar(im1)\n",
    "    ax1.set_title(\"Altimeter (hPa)\",fontsize=16)\n",
    "\n",
    "    ax2 = plt.subplot(222,projection=crs.PlateCarree())\n",
    "    add_map(ax2,'dimgray',1)\n",
    "    add_gridlines(ax2,False,False,'k',18)\n",
    "\n",
    "    im2 = ax2.imshow(temp_meso[d],origin='lower',aspect='auto',interpolation='bilinear',extent=[X.min(),X.max(),Y.min(),Y.max()],cmap=plt.cm.RdBu_r,vmin=-1.5,vmax=1.5)\n",
    "    im22 = ax2.contour(X,Y,temp_meso[d],levels=tran,colors='k')\n",
    "    q2 = ax2.quiver(X[::5,::5],Y[::5,::5],uwind_meso[d][::5,::5],vwind_meso[d][::5,::5],scale=35,width=0.0025,zorder=10)\n",
    "\n",
    "    ax2.set_title(\"Temperature (deg C)\",fontsize=16)\n",
    "    plt.colorbar(im2)\n",
    "\n",
    "    ax3 = plt.subplot(223,projection=crs.PlateCarree())\n",
    "    add_map(ax3,'dimgray',1)\n",
    "    add_gridlines(ax3,True,True,'k',18)\n",
    "\n",
    "    im3 = ax3.imshow(dewp_meso[d],origin='lower',aspect='auto',interpolation='bilinear',extent=[X.min(),X.max(),Y.min(),Y.max()],cmap=plt.cm.BrBG,vmin=-1.5,vmax=1.5)\n",
    "    im33 = ax3.contour(X,Y,dewp_meso[d],levels=dran,colors='k')\n",
    "    q3 = ax3.quiver(X[::5,::5],Y[::5,::5],uwind_meso[d][::5,::5],vwind_meso[d][::5,::5],scale=35,width=0.0025,zorder=10)\n",
    "\n",
    "    ax3.set_title(\"Dew Point (deg C)\",fontsize=16)\n",
    "    plt.colorbar(im3)\n",
    "\n",
    "    ax4 = plt.subplot(224,projection=crs.PlateCarree())\n",
    "    add_map(ax4,'dimgray',1)\n",
    "    add_gridlines(ax4,True,False,'k',18)\n",
    "\n",
    "    im4 = ax4.imshow(refl2[d],origin='lower',aspect='auto',interpolation='bilinear',extent=[X.min(),X.max(),Y.min(),Y.max()],cmap=cmapp_radar,vmin=-32,vmax=90)\n",
    "    cs11 = ax4.contour(X,Y,alts_meso[d],levels=aran,colors='k')\n",
    "    q4 = ax4.quiver(X[::5,::5],Y[::5,::5],uwind_meso[d][::5,::5],vwind_meso[d][::5,::5],scale=35,width=0.0025,zorder=10)\n",
    "\n",
    "    ax4.clabel(cs11,cs11.levels,fmt=\"%1.2f\",inline=True,fontsize=9)\n",
    "    ax4.set_title(\"CREF (dBz)\",fontsize=16)\n",
    "    plt.colorbar(im4)\n",
    "\n",
    "    #Save image with %03d format for animation with ffmpeg\n",
    "    d = d-144\n",
    "    if (d < 10):\n",
    "        dd = '00'+str(d)\n",
    "    elif ((d >= 10) and (d < 100)):\n",
    "        dd = '0'+str(d)\n",
    "    else:\n",
    "        dd = str(d)\n",
    "        \n",
    "    plt.suptitle('5-min Perturbation Analysis '+ddate[9:13]+' UTC '+ddate[6:8]+'/'+ddate[4:6]+'/'+ddate[0:4],fontsize=24)\n",
    "    fig.canvas.draw()\n",
    "    plt.tight_layout()\n",
    "    plt.savefig('../data/Plots/'+day2+'/kfpert_surface_'+dd+'.png')\n",
    "    plt.close()\n",
    "    \n",
    "#Perform plotting in parallel (one plot - per core)\n",
    "num_cores = multiprocessing.cpu_count()\n",
    "results = Parallel(n_jobs=num_cores)(delayed(plot_pert)(d,ddate) for d,ddate in enumerate(dtlist[144:]))"
   ]
  },
  {
   "cell_type": "code",
   "execution_count": 47,
   "metadata": {},
   "outputs": [
    {
     "data": {
      "text/plain": [
       "0"
      ]
     },
     "execution_count": 47,
     "metadata": {},
     "output_type": "execute_result"
    }
   ],
   "source": [
    "#If animation (mp4 movie) already exists, remove it so ffmpeg won't ask to overwrite\n",
    "if os.path.isfile('../data/Plots/'+day2+'/kfpert_surface_'+day2+'.mp4'):\n",
    "    os.system('rm -rf ../data/Plots/'+day2+'/kfpert_surface_'+day2+'.mp4')\n",
    "#Create mp4 movie from 5-min pressure perturbation / reflectivity anlayses saved as pngs\n",
    "os.system('ffmpeg -r 12 -f image2 -s 1920x1080 -i ../data/Plots/'+day2+'/kfpert_surface_%03d.png -c:v libx264 -pix_fmt yuv420p ../data/Plots/'+day2+'/kfpert_surface_'+day2+'.mp4')\n",
    "#(Below) display video"
   ]
  },
  {
   "cell_type": "code",
   "execution_count": 48,
   "metadata": {},
   "outputs": [
    {
     "data": {
      "text/html": [
       "<div align=\"middle\">\n",
       "<video width=\"100%\" controls>\n",
       "      <source src = \"../data/Plots/20180515/kfpert_surface_20180515.mp4\" type=\"video/mp4\">\n",
       "</video></div>\n"
      ],
      "text/plain": [
       "<IPython.core.display.HTML object>"
      ]
     },
     "metadata": {},
     "output_type": "display_data"
    }
   ],
   "source": [
    "%%HTML\n",
    "<div align=\"middle\">\n",
    "<video width=\"100%\" controls>\n",
    "      <source src = \"../data/Plots/20180515/kfpert_surface_20180515.mp4\" type=\"video/mp4\">\n",
    "</video></div>"
   ]
  }
 ],
 "metadata": {
  "kernelspec": {
   "display_name": "Python 3",
   "language": "python",
   "name": "python3"
  },
  "language_info": {
   "codemirror_mode": {
    "name": "ipython",
    "version": 3
   },
   "file_extension": ".py",
   "mimetype": "text/x-python",
   "name": "python",
   "nbconvert_exporter": "python",
   "pygments_lexer": "ipython3",
   "version": "3.8.5"
  },
  "toc": {
   "base_numbering": 1,
   "nav_menu": {},
   "number_sections": false,
   "sideBar": true,
   "skip_h1_title": false,
   "title_cell": "Table of Contents",
   "title_sidebar": "Contents",
   "toc_cell": false,
   "toc_position": {},
   "toc_section_display": true,
   "toc_window_display": false
  },
  "varInspector": {
   "cols": {
    "lenName": 16,
    "lenType": 16,
    "lenVar": 40
   },
   "kernels_config": {
    "python": {
     "delete_cmd_postfix": "",
     "delete_cmd_prefix": "del ",
     "library": "var_list.py",
     "varRefreshCmd": "print(var_dic_list())"
    },
    "r": {
     "delete_cmd_postfix": ") ",
     "delete_cmd_prefix": "rm(",
     "library": "var_list.r",
     "varRefreshCmd": "cat(var_dic_list()) "
    }
   },
   "types_to_exclude": [
    "module",
    "function",
    "builtin_function_or_method",
    "instance",
    "_Feature"
   ],
   "window_display": false
  }
 },
 "nbformat": 4,
 "nbformat_minor": 4
}
