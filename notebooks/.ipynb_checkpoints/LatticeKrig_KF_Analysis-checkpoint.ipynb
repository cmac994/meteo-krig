{
 "cells": [
  {
   "cell_type": "markdown",
   "metadata": {},
   "source": [
    "### Kalman Smoothed Altimeter Analysis (Examples)\n",
    "\n",
    "This notebook provides visualizations for synoptic and mesoscale pressure analyses generated using LatticeKrig and a Kalman smoother to ensure temporal consistency between independent analyses. Pre-generated MADIS pressure analyses, created with MADIS research observations, are used to produce movies that show the evolution of altimeter (sea level pressure) on 14 April, 2018 and on 14-15 of May, 2018. \n",
    "\n",
    "1. Import relevant Python libraries and setup cartopy/colortables\n",
    "\n",
    "2. Retrieve MADIS (Kalman smoothed) pressure analyses and plot the synoptic distribution of pressure over a 24-h period.  \n",
    "\n",
    "3. Plot and save Kalman smoothed pressure analysis over the Mid-Atlantic region during two high-impact weather events (back to back derechoes). Produce a movie depicting the evolution fo the pressure and reflectivity over the two-day period.\n",
    "\n",
    "4. Demonstrate how mesoscale pressure perturbations are extracted from pressure analyses using band-pass filtering. Plot and save mesoscale pressure perturbations and composite reflectivity analyses over the two-day period from (3). From the saved images, produce a movies showing mesoscale pressure perturbations associated with convection."
   ]
  },
  {
   "cell_type": "code",
   "execution_count": 89,
   "metadata": {},
   "outputs": [
    {
     "data": {
      "text/html": [
       "<style>.container { width:100% !important; }</style>"
      ],
      "text/plain": [
       "<IPython.core.display.HTML object>"
      ]
     },
     "metadata": {},
     "output_type": "display_data"
    }
   ],
   "source": [
    "### ---- (1) ---- ####\n",
    "#Import Python libraries\n",
    "\n",
    "import os\n",
    "import xarray as xr\n",
    "import matplotlib\n",
    "import cmasher as cmr\n",
    "from matplotlib import pyplot as plt\n",
    "import numpy as np\n",
    "import funcs\n",
    "import sys\n",
    "import colorcet as cc\n",
    "import cmasher as cmr\n",
    "from datetime import datetime,timedelta\n",
    "from cartopy.feature import NaturalEarthFeature,BORDERS,LAKES,COLORS\n",
    "import cartopy.crs as crs\n",
    "from cartopy.mpl.gridliner import LONGITUDE_FORMATTER, LATITUDE_FORMATTER\n",
    "from metpy.plots import colortables\n",
    "from scipy import ndimage\n",
    "from scipy import signal\n",
    "from scipy.signal import butter, lfilter\n",
    "import multiprocessing\n",
    "from joblib import Parallel,delayed\n",
    "\n",
    "#Retrieve perceptually uniform colorbar from colorcet\n",
    "cmapp = cc.cm.rainbow_bgyrm_35_85_c71\n",
    "\n",
    "#Set format for datetime objects\n",
    "fmt = '%Y%m%d_%H%M'\n",
    "\n",
    "# Download/add state and coastline features for cartopy \n",
    "states = NaturalEarthFeature(category=\"cultural\", scale=\"10m\",\n",
    "                             facecolor=\"none\",\n",
    "                             name=\"admin_1_states_provinces_shp\")\n",
    "\n",
    "land_50m = NaturalEarthFeature('physical', 'land', '10m',\n",
    "                                        edgecolor='k',\n",
    "                                        facecolor='none')\n",
    "\n",
    "#Define function to add map data to matplotlib plot\n",
    "def add_map(ax,clr,lw):\n",
    "    ax.add_feature(states)\n",
    "    ax.add_feature(BORDERS)\n",
    "    ax.add_feature(land_50m)\n",
    "    ax.add_feature(states,edgecolor=clr,lw=lw)\n",
    "    ax.add_feature(LAKES, edgecolor=clr)\n",
    "\n",
    "#Define function to add latitude/longitude grid lines to cartopy/matplotlib plot\n",
    "def add_gridlines(ax,xl,yl,clr, fs):\n",
    "    gl = ax.gridlines(crs=crs.PlateCarree(), draw_labels=True,\n",
    "                      linewidth=0.25, color=clr, alpha=1, linestyle='--')\n",
    "\n",
    "    gl.xlabels_bottom = xl\n",
    "    gl.xlabels_top = False\n",
    "    gl.ylabels_left = yl\n",
    "    gl.ylabels_right = False\n",
    "\n",
    "    gl.xformatter = LONGITUDE_FORMATTER\n",
    "    gl.yformatter = LATITUDE_FORMATTER\n",
    "    gl.xlabel_style = {'size': fs, 'color': clr}\n",
    "    gl.ylabel_style = {'size': fs, 'color': clr}\n",
    "    return gl\n",
    "\n",
    "#Get Composite Reflectivity colormap from metpy\n",
    "ctable1 = 'NWSStormClearReflectivity'\n",
    "cmapp = cc.cm.rainbow_bgyrm_35_85_c71\n",
    "norm, cmapp_radar = colortables.get_with_steps(ctable1, 244, 244)\n",
    "\n",
    "#Increase with of notebook to fill screen\n",
    "from IPython.core.display import display, HTML\n",
    "display(HTML(\"<style>.container { width:100% !important; }</style>\"))\n",
    "\n",
    "#Define function to mask pressure analyses over water\n",
    "def mask_grid(arr):\n",
    "    arr = np.ma.masked_where(landsea==0,arr)\n",
    "    return arr\n",
    "\n",
    "#Define function to read and subset a land/sea boolean grid\n",
    "def get_landsea():\n",
    "    ds_land = xr.open_dataset('../data/Static/landsea.nc')\n",
    "    ds_land = funcs.subset(ds_land,minLat,maxLat,minLng,maxLng)\n",
    "    landsea = ds_land['LANDSEA'].values\n",
    "    landsea = np.pad(landsea, ((0,1),(0,1)), 'edge')\n",
    "    ds_land.close()\n",
    "    return landsea"
   ]
  },
  {
   "cell_type": "code",
   "execution_count": 90,
   "metadata": {},
   "outputs": [],
   "source": [
    "#---- (2) ---- #\n",
    "\n",
    "#Set date, date format, and observation type\n",
    "day = '20180414'\n",
    "otyp = 'altimeter'\n",
    "fmt = '%Y%m%d_%H%M'\n",
    "\n",
    "#Define bounding box for analysis\n",
    "minLng = -105.5; maxLng = -70.5; minLat = 28.5; maxLat = 48.5\n",
    "#Get land/sea boolean within bounding box\n",
    "landsea = get_landsea()\n",
    "\n",
    "#Retrieve pre-generated Kalman smoothed LatticeKrig pressure analysis for 14 April, 2018.\n",
    "ds_all = xr.open_dataset('../data/KF/kfmadis_full_altimeter_'+day+'.nc')\n",
    "#Convert analysis time to list of datetime objects\n",
    "dts = ds_all['Valid'].values \n",
    "dtlist = [datetime.utcfromtimestamp(d/1e9).strftime(fmt) for d in dts.tolist()]\n",
    "\n",
    "#Retrieve altimeter grid and latitude/longitude dims\n",
    "alts_kf = ds_all['altimeter_rts'].values\n",
    "ygrid = ds_all['longitude'].values; xgrid = ds_all['latitude'].values\n",
    "X,Y = np.meshgrid(ygrid,xgrid) #Generate 2D coordinate grid for contouring"
   ]
  },
  {
   "cell_type": "code",
   "execution_count": 91,
   "metadata": {},
   "outputs": [],
   "source": [
    "#Set lower and upper bounds for pressure colorbar\n",
    "mmin = round(np.nanmin(alts_kf)-0.5,0)\n",
    "mmax = round(np.nanmax(alts_kf)+0.5,0)\n",
    "\n",
    "#Define function to plot pressure anlyses and save to a png file in the Plots directory\n",
    "def plot_one(d,ddate):    \n",
    "    #Mask altimeter analysis over water\n",
    "    alts_kf_2d = mask_grid(alts_kf[d])\n",
    "    #Smooth altimeter analysis for contouring (use higher smoothing level for synoptic analysis)\n",
    "    alts_kf_2d_smooth = ndimage.gaussian_filter(alts_kf[d],sigma=5)\n",
    "    \n",
    "    #Initiatlize figure\n",
    "    fig =plt.figure(figsize=(18,10))\n",
    "    ax1 = plt.subplot(111,projection=crs.PlateCarree()) #Set projection\n",
    "    add_map(ax1,'dimgray',1) #Add States/borders\n",
    "    add_gridlines(ax1,True,True,'k',20) #Add grid lines and x/y labels  \n",
    "    im = ax1.imshow(alts_kf_2d,origin='lower',extent=[minLng,maxLng,minLat,maxLat],cmap=cmapp,vmin=mmin,vmax=mmax)\n",
    "    #Contour pressure every 2 hPa\n",
    "    CS = ax1.contour(X,Y,mask_grid(alts_kf_2d_smooth),levels=np.arange(mmin,mmax+2,2),colors='k',alpha=1)\n",
    "    ax1.clabel(CS, CS.levels, inline=True, fmt=\"%1.f\", fontsize=16, colors='k') #Add contour labels\n",
    "    #Set grid bounds\n",
    "    ax1.set_xlim([minLng,maxLng])\n",
    "    ax1.set_ylim([minLat,maxLat])\n",
    "    ax1.set_title('5-min MADIS Altimeter Analysis '+ddate[9:13]+' UTC '+ddate[6:8]+'/'+ddate[4:6]+'/'+ddate[0:4],fontsize=24)\n",
    "    cb=plt.colorbar(im,fraction=0.023) #Shrink colorbar to fit plot height\n",
    "    cb.ax.set_title('($hPa$)',y=1.02,fontsize=20) #Set colorbar title\n",
    "    cb.ax.tick_params(labelsize=20) #Set colorbar tick size\n",
    "    fig.canvas.draw()\n",
    "    plt.tight_layout()\n",
    "    #Save image with %03d format for animation with ffmpeg\n",
    "    if (d < 10):\n",
    "        dd = '00'+str(d)\n",
    "    elif ((d >= 10) and (d < 100)):\n",
    "        dd = '0'+str(d)\n",
    "    else:\n",
    "        dd = str(d)\n",
    "    plt.savefig('../data/Plots/'+day+'/kfalts_'+dd+'.png')\n",
    "    plt.close()\n",
    "\n",
    "#Perform plotting in parallel (one plot - per core)\n",
    "num_cores = multiprocessing.cpu_count()\n",
    "results = Parallel(n_jobs=num_cores)(delayed(plot_one)(d,ddate) for d,ddate in enumerate(dtlist))\n",
    "\n",
    "#Alternatively, perform plotting sequentially on a single core\n",
    "#for d,ddate in enumerate(dtlist):\n",
    "#    print('Plotting: '+str(ddate))\n",
    "#    plot_one(d,ddate)"
   ]
  },
  {
   "cell_type": "code",
   "execution_count": 92,
   "metadata": {},
   "outputs": [
    {
     "data": {
      "text/plain": [
       "0"
      ]
     },
     "execution_count": 92,
     "metadata": {},
     "output_type": "execute_result"
    }
   ],
   "source": [
    "#If animation (mp4 movie) already exists, remove it so ffmpeg won't ask to overwrite\n",
    "if os.path.isfile('../data/Plots/'+day+'/kfalts_'+day+'.mp4'):\n",
    "    os.system('rm -rf ../data/Plots/'+day+'/kfalts_'+day+'.mp4')\n",
    "#Create mp4 movie from 5-min pressure anlayses saved as pngs\n",
    "os.system('ffmpeg -r 9 -f image2 -s 1920x1080 -i ../data/Plots/'+day+'/kfalts_%03d.png -c:v libx264 -pix_fmt yuv420p ../data/Plots/'+day+'/kfalts_'+day+'.mp4')\n",
    "#(Below) Display MADIS pressure analysis for 14 April, 2018"
   ]
  },
  {
   "cell_type": "code",
   "execution_count": 93,
   "metadata": {},
   "outputs": [
    {
     "data": {
      "text/html": [
       "<div align=\"middle\">\n",
       "<video width=\"80%\" controls>\n",
       "      <source src = \"../data/Plots/20180414/kfalts_20180414.mp4\" type=\"video/mp4\">\n",
       "</video></div>\n"
      ],
      "text/plain": [
       "<IPython.core.display.HTML object>"
      ]
     },
     "metadata": {},
     "output_type": "display_data"
    }
   ],
   "source": [
    "%%HTML\n",
    "<div align=\"middle\">\n",
    "<video width=\"80%\" controls>\n",
    "      <source src = \"../data/Plots/20180414/kfalts_20180414.mp4\" type=\"video/mp4\">\n",
    "</video></div>"
   ]
  },
  {
   "cell_type": "code",
   "execution_count": 102,
   "metadata": {
    "scrolled": false
   },
   "outputs": [],
   "source": [
    "#---- (3) ---- #\n",
    "\n",
    "#Define dates of analysis and observation type\n",
    "day1 = '20180514'\n",
    "day2 = '20180515'\n",
    "otyp = 'altimeter'\n",
    "\n",
    "#Define bounding box\n",
    "minLng = -83.0; maxLng = -70.5; minLat = 38.5; maxLat= 45.0\n",
    "#Get land/sea boolean within bounding box\n",
    "landsea = get_landsea()\n",
    "landsea = landsea[:-1,:]\n",
    "\n",
    "#Retrieve pressure analyses for each day 14-15 of May, 2018\n",
    "ds1 = xr.open_dataset('../data/KF/kfmadis_full_altimeter_'+day1+'.nc')\n",
    "ds2 = xr.open_dataset('../data/KF/kfmadis_full_altimeter_'+day2+'.nc')\n",
    "#Combine pressure analysis from each day into a single xarray dataset\n",
    "ds_all = xr.concat([ds1,ds2],'Valid')\n",
    "\n",
    "#Retrieve latitude/longitude from dataset\n",
    "ygrid = ds_all['longitude'].values; xgrid = ds_all['latitude'].values\n",
    "X,Y = np.meshgrid(ygrid,xgrid) #Create 2d coordinates for contour plotting\n",
    "\n",
    "#Retrieve composite reflectivity for each day: 14-15 of May, 2018\n",
    "dsr1 = xr.open_dataset('../data/Radar/cref_'+day1+'.nc')\n",
    "dsr2 = xr.open_dataset('../data/Radar/cref_'+day2+'.nc')\n",
    "#Combine reflectivity analysis from each day into a single xarray dataset\n",
    "dsr_all = xr.concat([dsr1,dsr2],'Valid')\n",
    "\n",
    "#Convert observation times into list of datetime objects\n",
    "dts = ds2['Valid'].values\n",
    "dtlist = [datetime.utcfromtimestamp(d/1e9).strftime(fmt) for d in dts.tolist()]\n",
    "\n",
    "#Get pressure and reflectivity analyses\n",
    "alts_kf = ds2['altimeter_rts'].values\n",
    "refl = dsr2['REFL'].values"
   ]
  },
  {
   "cell_type": "code",
   "execution_count": 86,
   "metadata": {},
   "outputs": [],
   "source": [
    "#Set base font size\n",
    "matplotlib.rcParams.update({'font.size': 20})\n",
    "\n",
    "#Set lower and upper bounds for pressure colorbar\n",
    "mmin = round(np.nanmin(alts_kf)-0.5,0)\n",
    "mmax = round(np.nanmax(alts_kf)+0.5,0)\n",
    "\n",
    "#Define function to plot/save pressure and composite reflectivity analysis \n",
    "def plot_two(d,ddate):  \n",
    "    #Get 5-min reflectivity and altimeter analysis\n",
    "    rfl_2d = refl[d]\n",
    "    #Mask altimeter anlaysis over water\n",
    "    alts_kf_2d = mask_grid(alts_kf[d])\n",
    "    #Smooth altimeter analysis for contouring\n",
    "    alts_kf_2d_smooth = ndimage.gaussian_filter(alts_kf[d],sigma=2.5)\n",
    "    \n",
    "    #Initialize figure\n",
    "    fig =plt.figure(figsize=(28,8))\n",
    "    \n",
    "    #Plot pressure analysis\n",
    "    ax1 = plt.subplot(121,projection=crs.PlateCarree()) #define projection\n",
    "    add_map(ax1,'dimgray',1) #Add States/borders\n",
    "    add_gridlines(ax1,True,True,'k',22) #Add grid lines and x/y labels  \n",
    "    im = ax1.imshow(alts_kf_2d,origin='lower',extent=[minLng,maxLng,minLat,maxLat],cmap=cmr.pride,vmin=mmin,vmax=mmax)\n",
    "    #Contour pressure every 1 hPa\n",
    "    CS = ax1.contour(X,Y,mask_grid(alts_kf_2d_smooth),levels=np.arange(mmin,mmax+1,1),colors='k',alpha=1)\n",
    "    ax1.clabel(CS, CS.levels, inline=True, fmt=\"%1.f\", fontsize=16, colors='k') #Label contours\n",
    "    #Set grid bounds\n",
    "    ax1.set_xlim([minLng,maxLng])\n",
    "    ax1.set_ylim([minLat,maxLat])\n",
    "    ax1.set_title('MADIS Altimeter '+ddate[9:13]+' UTC '+ddate[6:8]+'/'+ddate[4:6]+'/'+ddate[0:4],fontsize=26)\n",
    "    cb=plt.colorbar(im,fraction=0.023) #Shrink colorbar to fit plot height\n",
    "    cb.ax.set_title('($hPa$)',y=1.02,fontsize=22) #Set colorbar title\n",
    "    cb.ax.tick_params(labelsize=22) #Set colorbar tick size\n",
    "    \n",
    "    #Plot composite reflectivity analysis\n",
    "    ax2 = plt.subplot(122,projection=crs.PlateCarree())\n",
    "    add_map(ax2,'dimgray',1) #Add States/borders\n",
    "    add_gridlines(ax2,True,False,'k',22) #Add grid lines and x/y labels  \n",
    "    im = ax2.imshow(np.ma.masked_where(rfl_2d<=20,rfl_2d),origin='lower',extent=[minLng,maxLng,minLat,maxLat],cmap=cmapp_radar,vmin=-32,vmax=90,zorder=5,alpha=0.8)\n",
    "    #Set grid bounds\n",
    "    ax2.set_xlim([minLng,maxLng])\n",
    "    ax2.set_ylim([minLat,maxLat])\n",
    "    ax2.set_title('Composite Reflectivity',fontsize=26)\n",
    "    cb=plt.colorbar(im,fraction=0.023)\n",
    "    cb.ax.set_title('($hPa$)',y=1.02,fontsize=22)\n",
    "    cb.ax.tick_params(labelsize=22)\n",
    "        \n",
    "    #Save image with %03d format for animation with ffmpeg\n",
    "    if (d < 10):\n",
    "        dd = '00'+str(d)\n",
    "    elif ((d >= 10) and (d < 100)):\n",
    "        dd = '0'+str(d)\n",
    "    else:\n",
    "        dd = str(d)\n",
    "        \n",
    "    plt.suptitle('5-min Analysis '+ddate[9:13]+' UTC '+ddate[6:8]+'/'+ddate[4:6]+'/'+ddate[0:4],fontsize=24)\n",
    "    fig.canvas.draw()\n",
    "    plt.tight_layout()\n",
    "    plt.savefig('../data/Plots/'+day2+'/kfcomb_'+dd+'.png')\n",
    "    plt.close()\n",
    "    \n",
    "#Perform plotting in parallel (one plot - per core)\n",
    "num_cores = multiprocessing.cpu_count()\n",
    "results = Parallel(n_jobs=num_cores)(delayed(plot_two)(d,ddate) for d,ddate in enumerate(dtlist))\n",
    "\n",
    "#Alternatively, perform plotting sequentially on a single core\n",
    "#for d,ddate in enumerate(dtlist):\n",
    "#    print('Plotting: '+str(ddate))\n",
    "#    plot_two(287,dtlist[287]) #ddate) #ddate)\n",
    "#    break"
   ]
  },
  {
   "cell_type": "code",
   "execution_count": 87,
   "metadata": {},
   "outputs": [
    {
     "data": {
      "text/plain": [
       "0"
      ]
     },
     "execution_count": 87,
     "metadata": {},
     "output_type": "execute_result"
    }
   ],
   "source": [
    "#If animation (mp4 movie) already exists, remove it so ffmpeg won't ask to overwrite\n",
    "if os.path.isfile('../data/Plots/'+day2+'/kfcomb_'+day2+'.mp4'):\n",
    "    os.system('rm -rf ../data/Plots/'+day2+'/kfcomb_'+day2+'.mp4')\n",
    "#Create mp4 movie from 5-min pressure/reflectivity anlayses saved as pngs\n",
    "os.system('ffmpeg -r 12 -f image2 -s 1920x1080 -i ../data/Plots/'+day2+'/kfcomb_%03d.png -c:v libx264 -pix_fmt yuv420p ../data/Plots/'+day2+'/kfcomb_'+day2+'.mp4')\n",
    "#(Below): Display video"
   ]
  },
  {
   "cell_type": "code",
   "execution_count": 88,
   "metadata": {
    "scrolled": false
   },
   "outputs": [
    {
     "data": {
      "text/html": [
       "<div align=\"middle\">\n",
       "<video width=\"100%\" controls>\n",
       "      <source src = \"../data/Plots/20180515/kfcomb_20180515.mp4\" type=\"video/mp4\">\n",
       "</video></div>\n"
      ],
      "text/plain": [
       "<IPython.core.display.HTML object>"
      ]
     },
     "metadata": {},
     "output_type": "display_data"
    }
   ],
   "source": [
    "%%HTML\n",
    "<div align=\"middle\">\n",
    "<video width=\"100%\" controls>\n",
    "      <source src = \"../data/Plots/20180515/kfcomb_20180515.mp4\" type=\"video/mp4\">\n",
    "</video></div>"
   ]
  },
  {
   "cell_type": "code",
   "execution_count": 104,
   "metadata": {},
   "outputs": [],
   "source": [
    "#Get dimensions of pressure anlaysis\n",
    "ys = alts_kf.shape[1] #lat dim\n",
    "xs = alts_kf.shape[2] #lng dim\n",
    "\n",
    "#Set upper and lower limits of band pass filter\n",
    "highcut = 1/(3600*2)\n",
    "lowcut = 1/(3600*6)\n",
    "fs = 1/300.0 #Set temporal frequency of analysis (in hertz)\n",
    "order=2\n",
    "\n",
    "#Define highpass/bandpass filter function\n",
    "def butter_bandpass(lowcut, highcut, fs, order=5):\n",
    "        nyq = 0.5 * fs #nyquist frequency\n",
    "        low = lowcut / nyq #lower limit filter\n",
    "        high = highcut / nyq #upper limit of filter\n",
    "        b, a = butter(order, [low, high], btype='band') #Perform bandpass\n",
    "        #b, a = butter(order, [high], btype = 'highpass')\n",
    "        return b, a\n",
    "\n",
    "#Function to perform band pass filtering\n",
    "def butter_bandpass_filter(data, lowcut, highcut, fs, order=5):\n",
    "        b, a = butter_bandpass(lowcut, highcut, fs, order=order)\n",
    "        y = signal.filtfilt(b, a, data)\n",
    "        return y\n",
    "\n",
    "#Filter time-series\n",
    "def filter_ts(vvar):\n",
    "        meso = butter_bandpass_filter(vvar, lowcut, highcut, fs, order)\n",
    "        return meso\n",
    "\n",
    "#Function to perform bandpass filtering of pressure time series at grid point (y,x)\n",
    "def perform_filter(vvar,x,y):\n",
    "    if (y == xs-1):\n",
    "            print(x)\n",
    "    \n",
    "    #Get bandpass filtered time-series\n",
    "    meso = filter_ts(vvar)\n",
    "    return meso\n",
    "\n",
    "#Get list of latitude/longitude pairs for every grid point in the analysis domain\n",
    "xy_pair = [];\n",
    "for i in range(0,ys):\n",
    "    for j in range(0,xs):\n",
    "        xy_pair.append((i,j))\n",
    "\n",
    "\n",
    "#Get altimeter and reflectivity analyses over the two-day period (14-15, May 2018) \n",
    "alts_kf = ds_all['altimeter_rts'].values\n",
    "refl = dsr_all['REFL'].values\n",
    "        \n",
    "#Perform bandpass filtering in parallel\n",
    "num_cores = multiprocessing.cpu_count()\n",
    "vvar_meso = Parallel(n_jobs=num_cores)(delayed(perform_filter)(alts_kf[:,x,y],x,y) for x,y in xy_pair)\n",
    "\n",
    "#Convert list of analysis times to list of datetime objects\n",
    "dts = ds_all['Valid'].values\n",
    "dtlist = [datetime.utcfromtimestamp(d/1e9).strftime(fmt) for d in dts.tolist()]\n",
    "\n",
    "#Reshape the bandpass filtered pressure dataset so its dimensions are (Time, Latitude, Longitude)\n",
    "vvar_meso = np.float32(vvar_meso)\n",
    "nshp = (ys,xs,len(dtlist))\n",
    "vvar_meso = np.reshape(vvar_meso,nshp).T\n",
    "vvar_meso = np.swapaxes(vvar_meso,1,2)\n",
    "\n",
    "#Write bandpass filtered pressure perturbations to NetCDF\n",
    "#ds = xr.Dataset()\n",
    "#ds['altimeter_meso'] = xr.DataArray(vvar_meso,coords={'Valid':dts,'latitude':ds_all['latitude'].values,'longitude':ds_all['longitude'].values},dims=('Valid','latitude','longitude'))\n",
    "#ds.to_netcdf('../data/KF/kfmeso_bpass_'+day2+'.nc')"
   ]
  },
  {
   "cell_type": "code",
   "execution_count": 106,
   "metadata": {},
   "outputs": [],
   "source": [
    "#Set base font size\n",
    "matplotlib.rcParams.update({'font.size': 20})\n",
    "\n",
    "#Get land/sea boolean within bounding box\n",
    "landsea = get_landsea()\n",
    "landsea = landsea[:-1,:]\n",
    "\n",
    "#Get latitude/longitude and 2D coordinates of analysis domain\n",
    "xgrid = ds_all['longitude'].values; ygrid = ds_all['latitude'].values\n",
    "X,Y = np.meshgrid(xgrid,ygrid)\n",
    "\n",
    "#Define function to mesoscale pressure perturbations and composite reflectivity analysis\n",
    "def plot_two(d,ddate):  \n",
    "    #Start at 1200 UTC 14, May\n",
    "    d = d+144\n",
    "    #Retrieve 5-min reflectivity and altimeter analysis\n",
    "    rfl_2d = refl[d]\n",
    "    #Mask altimeter analysis over water\n",
    "    vvar_meso_2d = mask_grid(vvar_meso[d])\n",
    "    #Smooth altimeter analysis for contouring\n",
    "    vvar_meso_2d_smooth = ndimage.gaussian_filter(vvar_meso_2d,sigma=2.5)\n",
    "    \n",
    "    #Initialize Figure\n",
    "    fig =plt.figure(figsize=(26,8))\n",
    "    \n",
    "    #Plot mesoscale (bandpass) pressure perturbation analysis\n",
    "    ax1 = plt.subplot(121,projection=crs.PlateCarree())\n",
    "    add_map(ax1,'dimgray',1) #Add States/borders\n",
    "    add_gridlines(ax1,True,True,'k',18) #Add grid lines and x/y labels  \n",
    "    im = ax1.imshow(vvar_meso_2d,origin='lower',extent=[minLng,maxLng,minLat,maxLat],cmap=cmr.fusion_r,vmin=-2,vmax=2)\n",
    "    #Contour positive and negative perturbations at 0.75 and -0.75 hPa, respectively \n",
    "    CS = ax1.contour(X,Y,vvar_meso_2d,levels=[0.75],colors='k',alpha=1)\n",
    "    CS = ax1.contour(X,Y,vvar_meso_2d,levels=[-0.75],ls='--',colors='k',alpha=1)\n",
    "    ax1.clabel(CS, CS.levels, inline=True, fmt=\"%1.2f\", fontsize=14, colors='k') #add contour labels\n",
    "    #Set grid bounds\n",
    "    ax1.set_xlim([minLng,maxLng])\n",
    "    ax1.set_ylim([minLat,maxLat])\n",
    "    ax1.set_title('Mesoscale (2-6 h) Band-pass Altimeter',fontsize=22)\n",
    "    cb=plt.colorbar(im,fraction=0.023) #Shrink colorbar to fit plot height\n",
    "    cb.ax.set_title('($hPa$)',y=1.02,fontsize=18) #Set colorbar title\n",
    "    cb.ax.tick_params(labelsize=18) #Set colorbar tick size   \n",
    "    \n",
    "    #Plot composite reflectivity analysis\n",
    "    ax2 = plt.subplot(122,projection=crs.PlateCarree())\n",
    "    add_map(ax1,'dimgray',1) #Add States/borders\n",
    "    add_gridlines(ax1,True,True,'k',18) #Add grid lines and x/y labels  \n",
    "    im = ax2.imshow(rfl_2d,origin='lower',extent=[minLng,maxLng,minLat,maxLat],cmap=cmapp_radar,vmin=-32,vmax=90,zorder=2,alpha=0.8)\n",
    "    #Set grid bounds\n",
    "    ax2.set_xlim([minLng,maxLng])\n",
    "    ax2.set_ylim([minLat,maxLat])\n",
    "    ax2.set_title('Composite Reflectivity',fontsize=22)\n",
    "    cb=plt.colorbar(im,fraction=0.023) #Shrink colorbar to fit plot height\n",
    "    cb.ax.set_title('($dBZ$)',y=1.02,fontsize=18) #Set colorbar title\n",
    "    cb.ax.tick_params(labelsize=18) #Set colorbar tick size\n",
    "        \n",
    "    #Save image with %03d format for animation with ffmpeg\n",
    "    d = d-144\n",
    "    if (d < 10):\n",
    "        dd = '00'+str(d)\n",
    "    elif ((d >= 10) and (d < 100)):\n",
    "        dd = '0'+str(d)\n",
    "    else:\n",
    "        dd = str(d)\n",
    "        \n",
    "    plt.suptitle('5-min Analysis '+ddate[9:13]+' UTC '+ddate[6:8]+'/'+ddate[4:6]+'/'+ddate[0:4],fontsize=24)\n",
    "    fig.canvas.draw()\n",
    "    plt.tight_layout()\n",
    "    plt.savefig('../data/Plots/'+day2+'/kfpert_'+dd+'.png')\n",
    "    plt.close()\n",
    "    \n",
    "#Perform plotting in parallel (one plot - per core)\n",
    "num_cores = multiprocessing.cpu_count()\n",
    "results = Parallel(n_jobs=num_cores)(delayed(plot_two)(d,ddate) for d,ddate in enumerate(dtlist[144:]))"
   ]
  },
  {
   "cell_type": "code",
   "execution_count": 107,
   "metadata": {},
   "outputs": [
    {
     "data": {
      "text/plain": [
       "0"
      ]
     },
     "execution_count": 107,
     "metadata": {},
     "output_type": "execute_result"
    }
   ],
   "source": [
    "#If animation (mp4 movie) already exists, remove it so ffmpeg won't ask to overwrite\n",
    "if os.path.isfile('../data/Plots/'+day2+'/kfpert_'+day2+'.mp4'):\n",
    "    os.system('rm -rf ../data/Plots/'+day2+'/kfpert_'+day2+'.mp4')\n",
    "#Create mp4 movie from 5-min pressure perturbation / reflectivity anlayses saved as pngs\n",
    "os.system('ffmpeg -r 12 -f image2 -s 1920x1080 -i ../data/Plots/'+day2+'/kfpert_%03d.png -c:v libx264 -pix_fmt yuv420p ../data/Plots/'+day2+'/kfpert_'+day2+'.mp4')\n",
    "#(Below) display video"
   ]
  },
  {
   "cell_type": "code",
   "execution_count": 108,
   "metadata": {},
   "outputs": [
    {
     "data": {
      "text/html": [
       "<div align=\"middle\">\n",
       "<video width=\"100%\" controls>\n",
       "      <source src = \"../data/Plots/20180515/kfpert_20180515.mp4\" type=\"video/mp4\">\n",
       "</video></div>\n"
      ],
      "text/plain": [
       "<IPython.core.display.HTML object>"
      ]
     },
     "metadata": {},
     "output_type": "display_data"
    }
   ],
   "source": [
    "%%HTML\n",
    "<div align=\"middle\">\n",
    "<video width=\"100%\" controls>\n",
    "      <source src = \"../data/Plots/20180515/kfpert_20180515.mp4\" type=\"video/mp4\">\n",
    "</video></div>"
   ]
  }
 ],
 "metadata": {
  "kernelspec": {
   "display_name": "Python 3",
   "language": "python",
   "name": "python3"
  },
  "language_info": {
   "codemirror_mode": {
    "name": "ipython",
    "version": 3
   },
   "file_extension": ".py",
   "mimetype": "text/x-python",
   "name": "python",
   "nbconvert_exporter": "python",
   "pygments_lexer": "ipython3",
   "version": "3.8.5"
  },
  "toc": {
   "base_numbering": 1,
   "nav_menu": {},
   "number_sections": false,
   "sideBar": true,
   "skip_h1_title": false,
   "title_cell": "Table of Contents",
   "title_sidebar": "Contents",
   "toc_cell": false,
   "toc_position": {},
   "toc_section_display": true,
   "toc_window_display": false
  },
  "varInspector": {
   "cols": {
    "lenName": 16,
    "lenType": 16,
    "lenVar": 40
   },
   "kernels_config": {
    "python": {
     "delete_cmd_postfix": "",
     "delete_cmd_prefix": "del ",
     "library": "var_list.py",
     "varRefreshCmd": "print(var_dic_list())"
    },
    "r": {
     "delete_cmd_postfix": ") ",
     "delete_cmd_prefix": "rm(",
     "library": "var_list.r",
     "varRefreshCmd": "cat(var_dic_list()) "
    }
   },
   "types_to_exclude": [
    "module",
    "function",
    "builtin_function_or_method",
    "instance",
    "_Feature"
   ],
   "window_display": false
  }
 },
 "nbformat": 4,
 "nbformat_minor": 4
}
